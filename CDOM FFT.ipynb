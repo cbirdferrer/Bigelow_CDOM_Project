{
 "cells": [
  {
   "cell_type": "code",
   "execution_count": 1,
   "metadata": {
    "collapsed": true
   },
   "outputs": [],
   "source": [
    "#numeric python module, useful for handling large data arrays\n",
    "import numpy as np\n",
    "\n",
    "import pandas as pd\n",
    "\n",
    "#module for dealing with netCDF files (all sat files are netCDF)\n",
    "import netCDF4 as nc\n",
    "\n",
    "#modules for making plots. Here wer are importing the full matplotlib\n",
    "#module, but also the sub-module pyplot separately with an abbreviated\n",
    "#name so it is easier to use in the code\n",
    "import matplotlib.pyplot as plt\n",
    "import matplotlib\n",
    "\n",
    "#panda\n",
    "import pandas as pd\n",
    "\n",
    "\n",
    "#import datetime\n",
    "import datetime\n",
    "from datetime import datetime\n",
    "\n",
    "#for displaying the plots in this notebook \n",
    "%matplotlib inline\n",
    "\n",
    "#module for making maps\n",
    "from mpl_toolkits.basemap import Basemap\n",
    "\n",
    "#miscellaneous operating system interfaces module for doing things like\n",
    "#moving file, exploring directory paths, etc..\n",
    "import os\n",
    "import re\n",
    "\n",
    "##import the FFT module\n",
    "from numpy import fft"
   ]
  },
  {
   "cell_type": "code",
   "execution_count": 2,
   "metadata": {
    "collapsed": true
   },
   "outputs": [],
   "source": [
    "##this is just calculating the monthly averages again\n",
    "#specify the directory where all the files are saved\n",
    "cdom_giopdir= '/Users/clarabirdferrer/Documents/Bigelow/SatelliteData/CDOM/subsets/giop'\n",
    "\n",
    "#list all the files in the directory using the os module\n",
    "cdom_giop_all=os.listdir(cdom_giopdir)\n",
    "\n",
    "wd = os.chdir(cdom_giopdir)\n",
    "cwd = os.getcwd()\n",
    "#print (cwd)\n",
    "\n",
    "\n",
    "#pull just the files that are data not lat or lon\n",
    "datafiles=[]\n",
    "for ff in cdom_giop_all:\n",
    "    M = re.search('_data_',ff)\n",
    "    if M:\n",
    "        datafiles += [ff]\n",
    "\n",
    "\n",
    "##this loop calculates the average across the GoM for each month\n",
    "#number of files\n",
    "numfiles = len(datafiles)\n",
    "       \n",
    "#looping through each file, doing as detailed in the above \n",
    "#section for subsetting data\n",
    "\n",
    "cdomgiop_avg = []\n",
    "\n",
    "x = []\n",
    "for yr in range(2003,2017):  \n",
    "    fn = 'adg443.giop_subset_data_'+ str(yr)\n",
    "    \n",
    "    for mn in range (1,13):\n",
    "        fnm = fn + '_' + str(mn)\n",
    "        #print (fnm) ##this gives all the files names\n",
    "            \n",
    "        #data = open(fnm,'r')\n",
    "        data = np.loadtxt(fnm)\n",
    "        #data = np.genfromtxt(fnm)\n",
    "        #print (data)              ##here is where it goes to only the 12th month\n",
    "\n",
    "        data_=np.array(data).astype(np.float)\n",
    "        #print (data_)\n",
    "\n",
    "        ma = np.ma.MaskedArray(data,mask=np.isnan(data_))\n",
    "        #print (ma)\n",
    "\n",
    "        avg = np.nanmean(ma)\n",
    "        #print (avg)\n",
    "       \n",
    "\n",
    "\n",
    "        cdomgiop_avg += [avg]\n",
    "        #print(cdomgiop_avg)\n",
    "\n",
    "        #this is creating the dates for the x axis of the time series\n",
    "        time = str(mn) + '_' + str(yr)\n",
    "        date = datetime.strptime(time, '%m_%Y')\n",
    "        x.append(date)\n",
    "\n",
    "        #print(cdomgiop_avg)"
   ]
  },
  {
   "cell_type": "code",
   "execution_count": 3,
   "metadata": {},
   "outputs": [
    {
     "name": "stdout",
     "output_type": "stream",
     "text": [
      "            A                                        B\n",
      "0    0.000000                     (0.0861176181701+0j)\n",
      "1    0.785714    (0.00299857836797+0.000740234953274j)\n",
      "2    1.571429     (0.00076714045881+0.00223743274729j)\n",
      "3    2.357143    (-0.00123479150895+0.00284020981145j)\n",
      "4    3.142857   (0.000945735472382+0.000515350181765j)\n",
      "5    3.928571  (-1.41425533691e-05+0.000412463549368j)\n",
      "6    4.714286   (-0.000331841134148+0.00144642673415j)\n",
      "7    5.500000    (3.75049780252e-05+0.00075037498384j)\n",
      "8    6.285714   (0.000671912269447-3.84459076363e-05j)\n",
      "9    7.071429  (-0.000790769924921+0.000678380320239j)\n",
      "10   7.857143    (0.00028276372847+4.30679417912e-05j)\n",
      "11   8.642857   (0.000179295549871-0.000522716213209j)\n",
      "12   9.428571  (-0.000234194418117-0.000504261418625j)\n",
      "13  10.214286    (0.000275179289669+0.00454379450019j)\n",
      "14  11.000000     (0.00107505583597-0.00604922785375j)\n",
      "15  11.785714    (0.00024084515546-0.000513769260009j)\n",
      "16  12.571429     (-0.00118056650856+0.0018329696615j)\n",
      "17  13.357143  (-0.000836355165908+0.000489721378629j)\n",
      "18  14.142857    (-0.000858978641431+0.0014112262566j)\n",
      "19  14.928571  (-0.000469438807901-0.000228458346959j)\n",
      "20  15.714286  (-0.000594567404159-0.000337495299293j)\n",
      "21  16.500000    (-0.0013876564715+0.000553650960941j)\n",
      "22  17.285714   (0.000302395008915+0.000670790541529j)\n",
      "23  18.071429   (-0.00103624139843+0.000345610727514j)\n",
      "24  18.857143    (0.000574347272231-0.00109150697911j)\n",
      "25  19.642857  (-0.000225690188554+0.000430223287241j)\n",
      "26  20.428571  (-0.000478378202478+7.57255361794e-05j)\n",
      "27  21.214286   (-0.000913936369177+0.00173659550388j)\n",
      "28  22.000000     (-0.0087631004848-0.00152102435769j)\n",
      "29  22.785714    (0.00141496990898+0.000708104235857j)\n",
      "..        ...                                      ...\n",
      "54  42.428571  (-0.000327348278561-0.000234082780296j)\n",
      "55  43.214286  (-0.000409682416883+0.000554405529949j)\n",
      "56  44.000000    (0.00173452265861-0.000771984999037j)\n",
      "57  44.785714     (0.00110813080406-0.00152936840837j)\n",
      "58  45.571429   (0.000305151253053+0.000169236324284j)\n",
      "59  46.357143  (-0.000506548046578+0.000372218269107j)\n",
      "60  47.142857  (-0.000465127744595-4.78495671981e-05j)\n",
      "61  47.928571   (0.000541778780424-0.000313678056454j)\n",
      "62  48.714286  (-0.000603075451849-0.000584374679502j)\n",
      "63  49.500000   (0.000102802723584+0.000148760245679j)\n",
      "64  50.285714  (-6.42713179383e-05+4.90579093417e-06j)\n",
      "65  51.071429  (-1.65620051535e-05+0.000279216138854j)\n",
      "66  51.857143   (0.000284403432975-2.23910015244e-05j)\n",
      "67  52.642857    (0.000127880530088+0.00014631977067j)\n",
      "68  53.428571   (0.000223580425869-0.000215894633184j)\n",
      "69  54.214286    (0.00043798484272-0.000414788315522j)\n",
      "70  55.000000    (0.000881843703301-0.00170930275562j)\n",
      "71  55.785714  (-0.000116199098179-0.000868662226138j)\n",
      "72  56.571429  (-0.000818468566621+0.000413626453405j)\n",
      "73  57.357143  (-0.000252298599055+7.17938770536e-05j)\n",
      "74  58.142857    (-0.0008817292815-0.000875785561673j)\n",
      "75  58.928571  (-0.000560603492805-0.000299754823334j)\n",
      "76  59.714286  (-0.000105917409897-0.000445576844917j)\n",
      "77  60.500000   (-0.000524819701021-0.00044272494864j)\n",
      "78  61.285714  (-6.75933656246e-05+0.000359085620788j)\n",
      "79  62.071429  (-0.000480092177232+2.78207571416e-05j)\n",
      "80  62.857143   (0.000180946410092-0.000246989904233j)\n",
      "81  63.642857   (-0.00011251186713+0.000112342688955j)\n",
      "82  64.428571   (-0.00119899322366-0.000160552844045j)\n",
      "83  65.214286   (-0.000989273498282-7.9861896757e-05j)\n",
      "\n",
      "[84 rows x 2 columns]\n"
     ]
    },
    {
     "data": {
      "text/plain": [
       "[]"
      ]
     },
     "execution_count": 3,
     "metadata": {},
     "output_type": "execute_result"
    },
    {
     "data": {
      "image/png": "[encoded data removed]",
      "text/plain": [
       "<matplotlib.figure.Figure at 0x1131cac88>"
      ]
     },
     "metadata": {},
     "output_type": "display_data"
    }
   ],
   "source": [
    "Fs= 132  #sampling rate ##1 data point per month but maybe should be 12 (in R it would be b/c 12 months per year)\n",
    "Ts = 1 #the hell is a sampling interval\n",
    "t = x #time vector\n",
    "\n",
    "y = cdomgiop_avg      #signal\n",
    "n = len(y) #length of signal\n",
    "\n",
    "k=np.arange(n) #returns evenly spaced values w/in given interval\n",
    "T= n/Fs #length of signal/sampling frequency\n",
    "\n",
    "frq = k/T #two sides of frequency range\n",
    "frq = frq[range(n//2)]   #one side frequency range\n",
    "\n",
    "\n",
    "Y=np.fft.fft(y)/n  ##fft computing and normalization\n",
    "Y = Y[range(n//2)]\n",
    "\n",
    "d = {'B':Y,'A':frq}\n",
    "df = pd.DataFrame(data=d)\n",
    "print(df)\n",
    "\n",
    "\n",
    "fig,ax = plt.subplots(2,1)\n",
    "ax[0].plot(t,y) #CDOM avg time series\n",
    "ax[1].plot(frq,abs(Y),'r') #plotting the spectrum\n",
    "plt.plot()\n",
    "\n"
   ]
  },
  {
   "cell_type": "code",
   "execution_count": 4,
   "metadata": {},
   "outputs": [
    {
     "name": "stdout",
     "output_type": "stream",
     "text": [
      "[   0.    1.    2.    3.    4.    5.    6.    7.    8.    9.   10.   11.\n",
      "   12.   13.   14.   15.   16.   17.   18.   19.   20.   21.   22.   23.\n",
      "   24.   25.   26.   27.   28.   29.   30.   31.   32.   33.   34.   35.\n",
      "   36.   37.   38.   39.   40.   41.   42.   43.   44.   45.   46.   47.\n",
      "   48.   49.   50.   51.   52.   53.   54.   55.   56.   57.   58.   59.\n",
      "   60.   61.   62.   63.   64.   65.   66.   67.   68.   69.   70.   71.\n",
      "   72.   73.   74.   75.   76.   77.   78.   79.   80.   81.   82.   83.\n",
      "   84.   85.   86.   87.   88.   89.   90.   91.   92.   93.   94.   95.\n",
      "   96.   97.   98.   99.  100.  101.  102.  103.  104.  105.  106.  107.\n",
      "  108.  109.  110.  111.  112.  113.  114.  115.  116.  117.  118.  119.\n",
      "  120.  121.  122.  123.  124.  125.  126.  127.  128.  129.  130.  131.\n",
      "  132.  133.  134.  135.  136.  137.  138.  139.  140.  141.  142.  143.\n",
      "  144.  145.  146.  147.  148.  149.]\n"
     ]
    },
    {
     "ename": "NameError",
     "evalue": "name 'py' is not defined",
     "output_type": "error",
     "traceback": [
      "\u001b[0;31m---------------------------------------------------------------------------\u001b[0m",
      "\u001b[0;31mNameError\u001b[0m                                 Traceback (most recent call last)",
      "\u001b[0;32m<ipython-input-4-20a559e5e653>\u001b[0m in \u001b[0;36m<module>\u001b[0;34m()\u001b[0m\n\u001b[1;32m     26\u001b[0m \u001b[0max\u001b[0m\u001b[0;34m[\u001b[0m\u001b[0;36m1\u001b[0m\u001b[0;34m]\u001b[0m\u001b[0;34m.\u001b[0m\u001b[0mset_ylabel\u001b[0m\u001b[0;34m(\u001b[0m\u001b[0;34m'|Y(freq)|'\u001b[0m\u001b[0;34m)\u001b[0m\u001b[0;34m\u001b[0m\u001b[0m\n\u001b[1;32m     27\u001b[0m \u001b[0;34m\u001b[0m\u001b[0m\n\u001b[0;32m---> 28\u001b[0;31m \u001b[0mplot_url\u001b[0m \u001b[0;34m=\u001b[0m \u001b[0mpy\u001b[0m\u001b[0;34m.\u001b[0m\u001b[0mplot_mpl\u001b[0m\u001b[0;34m(\u001b[0m\u001b[0mfig\u001b[0m\u001b[0;34m,\u001b[0m \u001b[0mfilename\u001b[0m\u001b[0;34m=\u001b[0m\u001b[0;34m'mpl-basic-fft'\u001b[0m\u001b[0;34m)\u001b[0m\u001b[0;34m\u001b[0m\u001b[0m\n\u001b[0m",
      "\u001b[0;31mNameError\u001b[0m: name 'py' is not defined"
     ]
    },
    {
     "data": {
      "image/png": "[encoded data removed]",
      "text/plain": [
       "<matplotlib.figure.Figure at 0x116508ba8>"
      ]
     },
     "metadata": {},
     "output_type": "display_data"
    }
   ],
   "source": [
    "\n",
    "\n",
    "Fs = 150.0;  # sampling rate\n",
    "Ts = 1.0/Fs; # sampling interval\n",
    "t = np.arange(0,1,Ts) # time vector\n",
    "\n",
    "ff = 5;   # frequency of the signal\n",
    "y = np.sin(2*np.pi*ff*t)\n",
    "\n",
    "n = len(y) # length of the signal\n",
    "k = np.arange(n)\n",
    "T = n/Fs\n",
    "frq = k/T # two sides frequency range\n",
    "print(frq)\n",
    "frq = frq[range(n//2)] # one side frequency range\n",
    "\n",
    "Y = np.fft.fft(y)/n # fft computing and normalization\n",
    "Y = Y[range(n//2)]\n",
    "\n",
    "fig, ax = plt.subplots(2, 1)\n",
    "ax[0].plot(t,y)\n",
    "ax[0].set_xlabel('Time')\n",
    "ax[0].set_ylabel('Amplitude')\n",
    "ax[1].plot(frq,abs(Y),'r') # plotting the spectrum\n",
    "ax[1].set_xlabel('Freq (Hz)')\n",
    "ax[1].set_ylabel('|Y(freq)|')\n",
    "\n",
    "plot_url = py.plot_mpl(fig, filename='mpl-basic-fft')"
   ]
  },
  {
   "cell_type": "code",
   "execution_count": null,
   "metadata": {
    "collapsed": true
   },
   "outputs": [],
   "source": []
  },
  {
   "cell_type": "code",
   "execution_count": null,
   "metadata": {
    "collapsed": true
   },
   "outputs": [],
   "source": []
  },
  {
   "cell_type": "code",
   "execution_count": null,
   "metadata": {
    "collapsed": true
   },
   "outputs": [],
   "source": []
  }
 ],
 "metadata": {
  "kernelspec": {
   "display_name": "Python 3",
   "language": "python",
   "name": "python3"
  },
  "language_info": {
   "codemirror_mode": {
    "name": "ipython",
    "version": 3
   },
   "file_extension": ".py",
   "mimetype": "text/x-python",
   "name": "python",
   "nbconvert_exporter": "python",
   "pygments_lexer": "ipython3",
   "version": "3.6.1"
  }
 },
 "nbformat": 4,
 "nbformat_minor": 2
}
