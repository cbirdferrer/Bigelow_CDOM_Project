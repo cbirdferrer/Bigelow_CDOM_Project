{
 "cells": [
  {
   "cell_type": "markdown",
   "metadata": {},
   "source": [
    "## CDOM"
   ]
  },
  {
   "cell_type": "code",
   "execution_count": 7,
   "metadata": {
    "collapsed": true
   },
   "outputs": [],
   "source": [
    "#numeric python module, useful for handling large data arrays\n",
    "import numpy as np\n",
    "\n",
    "import pandas as pd\n",
    "\n",
    "#module for dealing with netCDF files (all sat files are netCDF)\n",
    "import netCDF4 as nc\n",
    "\n",
    "#modules for making plots. Here wer are importing the full matplotlib\n",
    "#module, but also the sub-module pyplot separately with an abbreviated\n",
    "#name so it is easier to use in the code\n",
    "import matplotlib.pyplot as plt\n",
    "import matplotlib\n",
    "\n",
    "#panda\n",
    "import pandas as pd\n",
    "\n",
    "\n",
    "#import datetime\n",
    "import datetime\n",
    "from datetime import datetime\n",
    "\n",
    "#for displaying the plots in this notebook \n",
    "%matplotlib inline\n",
    "\n",
    "#module for making maps\n",
    "from mpl_toolkits.basemap import Basemap\n",
    "\n",
    "#miscellaneous operating system interfaces module for doing things like\n",
    "#moving file, exploring directory paths, etc..\n",
    "import os\n",
    "import re\n"
   ]
  },
  {
   "cell_type": "code",
   "execution_count": 75,
   "metadata": {},
   "outputs": [
    {
     "name": "stdout",
     "output_type": "stream",
     "text": [
      "78 156\n",
      "Area(km^2) = 194688\n",
      "A(m^2) = 194688000000.0\n"
     ]
    }
   ],
   "source": [
    "##get area\n",
    "path = '/Users/clarabirdferrer/Documents/Bigelow/SatelliteData/CDOM/subsets/giop/'\n",
    "s = pd.read_csv(path+'adg443.giop_subset_data_2003_1',sep=' ',header=None)\n",
    "#print(s)\n",
    "x,y = s.shape\n",
    "print(x,y)\n",
    "pixels = x*y        ##get number of pixels\n",
    "areakm = pixels * 16 ##get area covered by number of pixels\n",
    "print(\"Area(km^2) =\",areakm)  \n",
    "A = areakm * (1e6)  ##convert from km to m\n",
    "print(\"A(m^2) =\",A)"
   ]
  },
  {
   "cell_type": "code",
   "execution_count": 121,
   "metadata": {},
   "outputs": [
    {
     "name": "stdout",
     "output_type": "stream",
     "text": [
      "/Users/clarabirdferrer/Documents/Bigelow/Data/GNATS\n"
     ]
    },
    {
     "name": "stderr",
     "output_type": "stream",
     "text": [
      "/Users/clarabirdferrer/anaconda/lib/python3.6/site-packages/ipykernel_launcher.py:21: SettingWithCopyWarning: \n",
      "A value is trying to be set on a copy of a slice from a DataFrame\n",
      "\n",
      "See the caveats in the documentation: http://pandas.pydata.org/pandas-docs/stable/indexing.html#indexing-view-versus-copy\n"
     ]
    }
   ],
   "source": [
    "#calculate DOC based on GNATS ag412\n",
    "#import and calculate monthly avgs of ag412\n",
    "##THIS IS FOR THE GNATS\n",
    "#specify the directory where all the files are saved\n",
    "cdom_gnatsdir= '/Users/clarabirdferrer/Documents/Bigelow/Data/GNATS'\n",
    "\n",
    "\n",
    "wd = os.chdir(cdom_gnatsdir)\n",
    "cwd = os.getcwd()\n",
    "print (cwd)\n",
    "\n",
    "from pandas import DatetimeIndex\n",
    "\n",
    "##GNATS shipboard data\n",
    "#1.import txt file\n",
    "df = pd.read_csv('GNATS_ag412.csv',sep=\",\",header = (1), names=['Station','DateTime','Lon','Lat','ag412'])\n",
    "#print(df)\n",
    "\n",
    "#2.convert all -999 cdom data points into nan\n",
    "ag = df['ag412']\n",
    "ag[ag < 0] = np.nan\n",
    "\n",
    "\n",
    "df = df.dropna(axis=0, how='any')\n",
    "#df"
   ]
  },
  {
   "cell_type": "code",
   "execution_count": 125,
   "metadata": {
    "scrolled": true
   },
   "outputs": [
    {
     "name": "stdout",
     "output_type": "stream",
     "text": [
      "(28176, 5)\n"
     ]
    }
   ],
   "source": [
    "#calculate DOC based on gnats ag412\n",
    "#df = pd.read_csv('ag412_means.csv',sep=\",\",header = (1), names=['date','station','lon','lat','ag412'])\n",
    "DOC = []\n",
    "for ag in df['ag412']:\n",
    "    x = ag\n",
    "    y = (0.412*(x**2)) + (0.4733*x) + 1.140\n",
    "    DOC += [y]\n",
    "    \n",
    "df_doc = pd.DataFrame()\n",
    "df_doc['DateTime'] = df['DateTime']\n",
    "df_doc['DOC'] = DOC\n",
    "df_doc['lat'] = df['Lat']\n",
    "df_doc['lon'] = df['Lon']\n",
    "dd = []\n",
    "for i in df_doc['DateTime']:\n",
    "    date = i[:10]\n",
    "    dd += [date]\n",
    "df_doc['date'] = dd\n",
    "print(df_doc.shape)"
   ]
  },
  {
   "cell_type": "code",
   "execution_count": 126,
   "metadata": {},
   "outputs": [
    {
     "name": "stdout",
     "output_type": "stream",
     "text": [
      "(1600, 3)\n"
     ]
    },
    {
     "name": "stderr",
     "output_type": "stream",
     "text": [
      "/Users/clarabirdferrer/anaconda/lib/python3.6/site-packages/ipykernel_launcher.py:10: SettingWithCopyWarning: \n",
      "A value is trying to be set on a copy of a slice from a DataFrame\n",
      "\n",
      "See the caveats in the documentation: http://pandas.pydata.org/pandas-docs/stable/indexing.html#indexing-view-versus-copy\n",
      "  # Remove the CWD from sys.path while we load stuff.\n"
     ]
    }
   ],
   "source": [
    "#pull out CDOM_giop\n",
    "path = '/Users/clarabirdferrer/Documents/Bigelow/Data/'\n",
    "df1 = pd.read_csv(path+'clara-matchup_results.csv',sep=\",\",header = (0))\n",
    "df_m = pd.DataFrame()\n",
    "df_m['station']=df1['station']\n",
    "df_m['giop']=df1['giop']\n",
    "\n",
    "\n",
    "gi = df_m['giop']\n",
    "gi[gi < 0] = np.nan\n",
    "\n",
    "df_m = df_m.dropna(axis=0, how='any') #gets rid of all the rows where CDOM = NaN\n",
    "pd.options.display.max_rows = 10000\n",
    "df_m = df_m.sort_values(by='giop')\n",
    "#print(df_m)\n",
    "d = []\n",
    "for i in df_m['station']:\n",
    "    date = i[:10]\n",
    "    d += [date]\n",
    "df_m['date'] = d\n",
    "print(df_m.shape)"
   ]
  },
  {
   "cell_type": "code",
   "execution_count": null,
   "metadata": {
    "collapsed": true
   },
   "outputs": [],
   "source": [
    "##find DOC in \n"
   ]
  }
 ],
 "metadata": {
  "kernelspec": {
   "display_name": "Python 3",
   "language": "python",
   "name": "python3"
  },
  "language_info": {
   "codemirror_mode": {
    "name": "ipython",
    "version": 3
   },
   "file_extension": ".py",
   "mimetype": "text/x-python",
   "name": "python",
   "nbconvert_exporter": "python",
   "pygments_lexer": "ipython3",
   "version": "3.6.1"
  }
 },
 "nbformat": 4,
 "nbformat_minor": 2
}
